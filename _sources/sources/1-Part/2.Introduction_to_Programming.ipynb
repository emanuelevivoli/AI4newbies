{
 "cells": [
  {
   "attachments": {},
   "cell_type": "markdown",
   "metadata": {},
   "source": [
    "# 2. Introduction to Programming\n",
    "\n",
    "## 2.1 Basics of Programming in Python\n",
    "\n",
    "In this example, we will explore some of the basic concepts of programming in Python. These concepts include variables, data types, operators, and control structures.\n",
    "\n"
   ]
  },
  {
   "attachments": {},
   "cell_type": "markdown",
   "metadata": {},
   "source": [
    "## Variables\n",
    "\n",
    "In programming, a **variable** is a named location in memory that is used to store a value. In Python, you can create a variable by simply assigning a value to a name:\n",
    "\n"
   ]
  },
  {
   "cell_type": "code",
   "execution_count": null,
   "metadata": {},
   "outputs": [],
   "source": [
    "# create a variable called `x` and assign it the value 10\n",
    "x = 10"
   ]
  },
  {
   "attachments": {},
   "cell_type": "markdown",
   "metadata": {},
   "source": [
    "Once you have created a variable, you can access its value using its name:"
   ]
  },
  {
   "cell_type": "code",
   "execution_count": null,
   "metadata": {},
   "outputs": [],
   "source": [
    "# print the value of the variable `x`\n",
    "print(x)  # prints 10"
   ]
  },
  {
   "attachments": {},
   "cell_type": "markdown",
   "metadata": {},
   "source": [
    "You can also update the value of a variable by re-assigning it a new value:"
   ]
  },
  {
   "cell_type": "code",
   "execution_count": null,
   "metadata": {},
   "outputs": [],
   "source": [
    "# update the value of the variable `x` to 20\n",
    "x = 20\n",
    "\n",
    "# print the updated value of the variable `x`\n",
    "print(x)  # prints 20"
   ]
  },
  {
   "attachments": {},
   "cell_type": "markdown",
   "metadata": {},
   "source": [
    "## Data Types\n",
    "\n",
    "In Python, every value has a **data type** that determines how it is stored and used. Some common data types in Python include:\n",
    "\n",
    "- **Integers**: Whole numbers, such as **`1`**, **`2`**, **`3`**, etc.\n",
    "- **Floats**: Decimal numbers, such as **`1.0`**, **`2.5`**, **`3.14`**, etc.\n",
    "- **Strings**: Text values, enclosed in quotation marks, such as **`\"hello\"`**, **`\"world\"`**, etc.\n",
    "\n",
    "You can use the **`type`** function to check the data type of a value in Python:"
   ]
  },
  {
   "cell_type": "code",
   "execution_count": null,
   "metadata": {},
   "outputs": [],
   "source": [
    "# check the data type of an integer\n",
    "print(type(1))  # prints \"<class 'int'>\"\n",
    "\n",
    "# check the data type of a float\n",
    "print(type(1.0))  # prints \"<class 'float'>\"\n",
    "\n",
    "# check the data type of a string\n",
    "print(type(\"hello\"))  # prints \"<class 'str'>\""
   ]
  },
  {
   "attachments": {},
   "cell_type": "markdown",
   "metadata": {},
   "source": [
    "## Operators\n",
    "\n",
    "In programming, **operators** are special symbols that perform specific operations on one or more values. Some common operators in Python include:\n",
    "\n",
    "- **`+`**: Addition\n",
    "- **``**: Subtraction\n",
    "- **``**: Multiplication\n",
    "- **`/`**: Division\n",
    "- **`%`**: Modulus (remainder after division)\n",
    "\n",
    "You can use operators to perform calculations and assign the result to a variable:\n"
   ]
  },
  {
   "cell_type": "code",
   "execution_count": null,
   "metadata": {},
   "outputs": [],
   "source": [
    "# create a variable `x` and assign it the value 10\n",
    "x = 10\n",
    "\n",
    "# create a variable `y` and assign it the value 5\n",
    "y = 5\n",
    "\n",
    "# create a variable `z` and assign it the result of `x` plus `y`\n",
    "z = x + y\n",
    "\n",
    "# print the value of `z`\n",
    "print(z)  # prints 15"
   ]
  },
  {
   "attachments": {},
   "cell_type": "markdown",
   "metadata": {},
   "source": [
    "## Control Structures\n",
    "\n",
    "In programming, **control structures** are blocks of code that allow you to control the flow of your program. Some common control structures in Python include:\n",
    "\n",
    "### If-else Statements\n",
    "\n",
    "Used to execute different blocks of code based on a condition.\n"
   ]
  },
  {
   "cell_type": "code",
   "execution_count": null,
   "metadata": {},
   "outputs": [],
   "source": [
    "# create a variable `x` and assign it the value 10\n",
    "x = 10\n",
    "\n",
    "# check if `x` is greater than 5\n",
    "if x > 5:\n",
    "  # if `x` is greater than 5, execute this block of code\n",
    "  print(\"x is greater than 5\")\n",
    "else:\n",
    "  # if `x` is not greater than 5, execute this block of code\n",
    "  print(\"x is not greater than 5\")"
   ]
  },
  {
   "attachments": {},
   "cell_type": "markdown",
   "metadata": {},
   "source": [
    "Output:\n",
    "\n",
    "```\n",
    "x is greater than 5\n",
    "```\n"
   ]
  },
  {
   "attachments": {},
   "cell_type": "markdown",
   "metadata": {},
   "source": [
    "\n",
    "### For Loops\n",
    "\n",
    "Used to iterate over a sequence of values."
   ]
  },
  {
   "cell_type": "code",
   "execution_count": null,
   "metadata": {},
   "outputs": [],
   "source": [
    "# create a list of numbers\n",
    "numbers = [1, 2, 3, 4, 5]\n",
    "\n",
    "# iterate over the list of numbers\n",
    "for number in numbers:\n",
    "  # for each number, execute this block of code\n",
    "  print(number)"
   ]
  },
  {
   "attachments": {},
   "cell_type": "markdown",
   "metadata": {},
   "source": [
    "Output:\n",
    "\n",
    "```\n",
    "1\n",
    "2\n",
    "3\n",
    "4\n",
    "5\n",
    "```"
   ]
  },
  {
   "attachments": {},
   "cell_type": "markdown",
   "metadata": {},
   "source": [
    "### While Loops\n",
    "\n",
    "Used to repeat a block of code until a condition is met."
   ]
  },
  {
   "cell_type": "code",
   "execution_count": null,
   "metadata": {},
   "outputs": [],
   "source": [
    "# create a variable `x` and assign it the value 0\n",
    "x = 0\n",
    "\n",
    "# repeat this block of code as long as `x` is less than 5\n",
    "while x < 5:\n",
    "  # increment `x` by 1\n",
    "  x += 1\n",
    "  # print the value of `x`\n",
    "  print(x)"
   ]
  },
  {
   "attachments": {},
   "cell_type": "markdown",
   "metadata": {},
   "source": [
    "Output:\n",
    "\n",
    "```\n",
    "1\n",
    "2\n",
    "3\n",
    "4\n",
    "5\n",
    "```"
   ]
  },
  {
   "cell_type": "markdown",
   "metadata": {},
   "source": []
  }
 ],
 "metadata": {
  "kernelspec": {
   "display_name": "base",
   "language": "python",
   "name": "python3"
  },
  "language_info": {
   "name": "python",
   "version": "3.7.4 (default, Aug 13 2019, 15:17:50) \n[Clang 4.0.1 (tags/RELEASE_401/final)]"
  },
  "orig_nbformat": 4,
  "vscode": {
   "interpreter": {
    "hash": "bede37849ef1a016272327115736fc1a672222222570e1af63a91088e5ca31d7"
   }
  }
 },
 "nbformat": 4,
 "nbformat_minor": 2
}
