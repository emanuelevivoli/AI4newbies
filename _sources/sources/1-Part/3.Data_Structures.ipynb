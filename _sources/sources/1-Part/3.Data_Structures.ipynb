{
 "cells": [
  {
   "attachments": {},
   "cell_type": "markdown",
   "metadata": {},
   "source": [
    "# 3. Data Structures\n",
    "\n",
    "## 3.1 **Introduction to Data Structures**\n",
    "\n",
    "In programming, **data structures** are used to store and organize data. Some common data structures in Python include:\n",
    "\n",
    "### Lists\n",
    "\n",
    "Lists are ordered collections of items that can be of any data type. Lists are created using square brackets **`[]`** and items are separated by commas **`,`**.\n",
    "\n"
   ]
  },
  {
   "cell_type": "code",
   "execution_count": null,
   "metadata": {},
   "outputs": [],
   "source": [
    "# create a list of numbers\n",
    "numbers = [1, 2, 3, 4, 5]\n",
    "\n",
    "# create a list of strings\n",
    "words = ['cat', 'dog', 'bird']\n",
    "\n",
    "# create a mixed list\n",
    "mixed = [1, 'cat', 3.14, True]"
   ]
  },
  {
   "attachments": {},
   "cell_type": "markdown",
   "metadata": {},
   "source": [
    "Lists are ordered, so you can access items by their index. Indexes start at 0 and go up to the length of the list minus 1.\n"
   ]
  },
  {
   "cell_type": "code",
   "execution_count": null,
   "metadata": {},
   "outputs": [],
   "source": [
    "# access the first item in the list of numbers\n",
    "print(numbers[0])  # prints 1\n",
    "\n",
    "# access the last item in the list of words\n",
    "print(words[-1])  # prints 'bird'\n",
    "\n",
    "# access the third item in the mixed list\n",
    "print(mixed[2])  # prints 3.14"
   ]
  },
  {
   "attachments": {},
   "cell_type": "markdown",
   "metadata": {},
   "source": [
    "### Tuples\n",
    "\n",
    "Tuples are similar to lists, but they are immutable, meaning that they cannot be modified once created. Tuples are created using parentheses **`()`** and items are separated by commas **`,`**."
   ]
  },
  {
   "cell_type": "code",
   "execution_count": null,
   "metadata": {},
   "outputs": [],
   "source": [
    "# create a tuple of numbers\n",
    "numbers = (1, 2, 3, 4, 5)\n",
    "\n",
    "# create a tuple of strings\n",
    "words = ('cat', 'dog', 'bird')\n",
    "\n",
    "# create a mixed tuple\n",
    "mixed = (1, 'cat', 3.14, True)"
   ]
  },
  {
   "attachments": {},
   "cell_type": "markdown",
   "metadata": {},
   "source": [
    "Like lists, tuples are ordered and you can access items by their index.\n"
   ]
  },
  {
   "cell_type": "code",
   "execution_count": null,
   "metadata": {},
   "outputs": [],
   "source": [
    "# access the first item in the tuple of numbers\n",
    "print(numbers[0])  # prints 1\n",
    "\n",
    "# access the last item in the tuple of words\n",
    "print(words[-1])  # prints 'bird'\n",
    "\n",
    "# access the third item in the mixed tuple\n",
    "print(mixed[2])  # prints 3.14"
   ]
  },
  {
   "attachments": {},
   "cell_type": "markdown",
   "metadata": {},
   "source": [
    "### Dictionaries\n",
    "\n",
    "Dictionaries are unordered collections of key-value pairs. Dictionaries are created using curly braces **`{}`** and keys and values are separated by a colon **`:`**."
   ]
  },
  {
   "cell_type": "code",
   "execution_count": null,
   "metadata": {},
   "outputs": [],
   "source": [
    "# create a dictionary of numbers\n",
    "numbers = {'one': 1, 'two': 2, 'three': 3}\n",
    "\n",
    "# create a dictionary of words\n",
    "words = {'cat': 'feline', 'dog': 'canine', 'bird': 'avian'}\n",
    "\n",
    "# create a mixed dictionary\n",
    "mixed = {'one': 1, 'cat': 'feline', 'pi': 3.14}"
   ]
  },
  {
   "attachments": {},
   "cell_type": "markdown",
   "metadata": {},
   "source": [
    "You can access values in a dictionary using their keys."
   ]
  },
  {
   "cell_type": "code",
   "execution_count": null,
   "metadata": {},
   "outputs": [],
   "source": [
    "# access the value of the 'one' key in the dictionary of numbers\n",
    "print(numbers['one'])  # prints 1\n",
    "\n",
    "# access the value of the 'bird' key in the dictionary of words\n",
    "print(words['bird'])  # prints 'avian'\n",
    "\n",
    "# access the value of the 'pi' key in the mixed dictionary\n",
    "print(mixed['pi']) # prints 3.14"
   ]
  },
  {
   "attachments": {},
   "cell_type": "markdown",
   "metadata": {},
   "source": [
    "### Sets\n",
    "\n",
    "Sets are unordered collections of unique items. They are written as a list of comma-separated values between curly braces, with the values separated by commas. Sets are mutable, meaning you can change their contents after they have been created."
   ]
  },
  {
   "cell_type": "code",
   "execution_count": null,
   "metadata": {},
   "outputs": [],
   "source": [
    "# create a set\n",
    "numbers = {1, 2, 3, 4, 5}\n",
    "\n",
    "# add an element to a set\n",
    "numbers.add(6)\n",
    "print(numbers)  # prints {1, 2, 3, 4, 5, 6}\n",
    "\n",
    "# remove an element from a set\n",
    "numbers.remove(3)\n",
    "print(numbers)  # prints {1, 2, 4, 5, 6}\n",
    "\n",
    "# check if an element is in a set\n",
    "if 4 in numbers:\n",
    "    print('4 is in the numbers set')\n",
    "\n",
    "# get the length of a set\n",
    "print(len(numbers))  # prints 5\n",
    "\n",
    "# iterate over a set\n",
    "for number in numbers:\n",
    "    print(number)  # prints 1, 2, 4, 5, 6"
   ]
  },
  {
   "attachments": {},
   "cell_type": "markdown",
   "metadata": {},
   "source": [
    "## 3.2 Advanced data structures\n",
    "\n",
    "In this section, we will cover three advanced data structures: linked lists, trees, and graphs. These data structures are useful for storing and manipulating data in more complex ways than simple data structures like lists, dictionaries, and sets.\n",
    "\n",
    "### 3.2.1 Linked Lists\n",
    "\n",
    "A linked list is a linear data structure that consists of a chain of nodes, where each node contains a value and a reference to the next node in the chain. Linked lists are useful for storing data that needs to be inserted or deleted frequently, as they allow you to easily add or remove elements at the beginning or end of the list.\n",
    "\n",
    "Here is an example of a linked list in Python:\n"
   ]
  },
  {
   "cell_type": "code",
   "execution_count": null,
   "metadata": {},
   "outputs": [],
   "source": [
    "class Node:\n",
    "    def __init__(self, value):\n",
    "        self.value = value\n",
    "        self.next = None\n",
    "\n",
    "class LinkedList:\n",
    "    def __init__(self):\n",
    "        self.head = None\n",
    "\n",
    "    def append(self, value):\n",
    "        new_node = Node(value)\n",
    "        if self.head is None:\n",
    "            self.head = new_node\n",
    "            return\n",
    "        current_node = self.head\n",
    "        while current_node.next is not None:\n",
    "            current_node = current_node.next\n",
    "        current_node.next = new_node"
   ]
  },
  {
   "attachments": {},
   "cell_type": "markdown",
   "metadata": {},
   "source": [
    "### 3.2.2 Trees\n",
    "\n",
    "A tree is a non-linear data structure that consists of nodes arranged in a hierarchical structure, with a root node at the top and child nodes branching out from it. Trees are useful for storing and manipulating hierarchical data, such as family trees or directory structures.\n",
    "\n",
    "Here is an example of a tree in Python:"
   ]
  },
  {
   "cell_type": "code",
   "execution_count": null,
   "metadata": {},
   "outputs": [],
   "source": [
    "class Node:\n",
    "    def __init__(self, value):\n",
    "        self.value = value\n",
    "        self.children = []\n",
    "\n",
    "    def add_child(self, value):\n",
    "        new_node = Node(value)\n",
    "        self.children.append(new_node)\n",
    "\n",
    "root = Node(\"root\")\n",
    "root.add_child(\"child 1\")\n",
    "root.add_child(\"child 2\")\n",
    "root.children[0].add_child(\"grandchild 1\")\n",
    "root.children[1].add_child(\"grandchild 2\")"
   ]
  },
  {
   "attachments": {},
   "cell_type": "markdown",
   "metadata": {},
   "source": [
    "### 3.2.3 Graphs\n",
    "\n",
    "A graph is a non-linear data structure that consists of a set of vertices (nodes) connected by edges. Graphs are useful for storing and manipulating data that has relationships between different elements, such as social networks or transportation networks.\n",
    "\n",
    "Here is an example of a graph in Python:"
   ]
  },
  {
   "cell_type": "code",
   "execution_count": null,
   "metadata": {},
   "outputs": [],
   "source": [
    "class Node:\n",
    "    def __init__(self, value):\n",
    "        self.value = value\n",
    "        self.neighbors = []\n",
    "\n",
    "class Graph:\n",
    "    def __init__(self):\n",
    "        self.nodes = []\n",
    "\n",
    "    def add_node(self, value):\n",
    "        new_node = Node(value)\n",
    "        self.nodes.append(new_node)\n",
    "        return new_node\n",
    "\n",
    "    def add_edge(self, node1, node2):\n",
    "        node1.neighbors.append(node2)\n",
    "        node2.neighbors.append(node1)"
   ]
  },
  {
   "attachments": {},
   "cell_type": "markdown",
   "metadata": {},
   "source": [
    "## 3.3 Applications of data structures in AI\n",
    "\n",
    "In artificial intelligence, data structures play a crucial role in the design and implementation of algorithms. For example, a tree data structure can be used to implement a decision tree algorithm, which is commonly used in supervised learning tasks. Similarly, a graph data structure can be used to represent relationships between data points in a social network, which can then be analyzed using graph theory algorithms.\n",
    "\n",
    "One common application of data structures in AI is in the representation of state spaces in search algorithms. For example, in a search for the shortest path between two points on a map, a graph data structure can be used to represent the map, with nodes representing intersections and edges representing roads between intersections. The search algorithm can then explore the graph, using various search strategies such as breadth-first search or depth-first search, to find the shortest path.\n",
    "\n",
    "In addition to their use in specific algorithms, data structures are also important for the efficient storage and manipulation of large datasets. For example, using an appropriate data structure can allow for fast insertion, deletion, and access of data points, which can greatly improve the speed and scalability of AI systems.\n",
    "\n",
    "Overall, understanding and utilizing appropriate data structures is essential for the design and implementation of efficient and effective AI systems."
   ]
  },
  {
   "cell_type": "markdown",
   "metadata": {},
   "source": []
  }
 ],
 "metadata": {
  "kernelspec": {
   "display_name": "base",
   "language": "python",
   "name": "python3"
  },
  "language_info": {
   "name": "python",
   "version": "3.7.4 (default, Aug 13 2019, 15:17:50) \n[Clang 4.0.1 (tags/RELEASE_401/final)]"
  },
  "orig_nbformat": 4,
  "vscode": {
   "interpreter": {
    "hash": "bede37849ef1a016272327115736fc1a672222222570e1af63a91088e5ca31d7"
   }
  }
 },
 "nbformat": 4,
 "nbformat_minor": 2
}
