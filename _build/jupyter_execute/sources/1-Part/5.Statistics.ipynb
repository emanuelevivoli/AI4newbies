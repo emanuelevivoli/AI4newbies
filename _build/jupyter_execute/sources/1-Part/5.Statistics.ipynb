{
 "cells": [
  {
   "attachments": {},
   "cell_type": "markdown",
   "metadata": {},
   "source": [
    "# 5. Statistics\n",
    "\n",
    "## 5.1 Introduction to statistics\n",
    "\n",
    "Statistics is the study of collecting, organizing, and analyzing data. It is a crucial tool for understanding the patterns and trends present in data, and for making informed decisions based on this analysis.\n",
    "\n",
    "In this section, we will cover the basic concepts of statistics, including measures of central tendency (such as mean, median, and mode), measures of dispersion (such as range, variance, and standard deviation), and probability. We will also introduce some common statistical tests, such as the t-test and ANOVA, which are used to determine the significance of differences between groups of data.\n",
    "\n",
    "To give a practical example of how these concepts can be applied, let's consider a simple dataset consisting of the heights (in inches) of a group of individuals. We can use the mean, median, and mode to describe the central tendency of this data, as follows:\n"
   ]
  },
  {
   "cell_type": "code",
   "execution_count": 1,
   "metadata": {},
   "outputs": [],
   "source": [
    "# some heights usefull for the exercises\n",
    "heights = [1.73, 1.68, 1.71, 1.89, 1.79]"
   ]
  },
  {
   "cell_type": "code",
   "execution_count": 2,
   "metadata": {},
   "outputs": [],
   "source": [
    "mean = sum(heights) / len(heights)\n",
    "median = sorted(heights)[len(heights) // 2]\n",
    "mode = max(set(heights), key=heights.count)\n"
   ]
  },
  {
   "attachments": {},
   "cell_type": "markdown",
   "metadata": {},
   "source": [
    "To calculate the range, variance, and standard deviation, we can use the following formulas:"
   ]
  },
  {
   "cell_type": "code",
   "execution_count": 3,
   "metadata": {},
   "outputs": [],
   "source": [
    "range = max(heights) - min(heights)\n",
    "variance = sum((x - mean) ** 2 for x in heights) / (len(heights) - 1)\n",
    "standard_deviation = variance ** 0.5"
   ]
  },
  {
   "attachments": {},
   "cell_type": "markdown",
   "metadata": {},
   "source": [
    "### ANOVA\n",
    "\n",
    "ANOVA (Analysis of Variance) is a statistical method used to test whether the mean of a dependent variable is the same across different levels of an independent variable. In the context of AI, ANOVA may be used to compare the performance of different machine learning models or to compare the effects of different input features on model performance.\n",
    "\n",
    "For example, say we want to compare the effectiveness of two different teaching methods on student performance. We could divide the students into two groups, teach one group using method A and the other group using method B, and then compare the mean test scores of the two groups. ANOVA allows us to determine whether there is a statistically significant difference between the mean scores of the two groups, or whether the difference could have occurred by chance.\n",
    "\n",
    "The basic formula for one-way ANOVA is as follows:\n",
    "\n",
    "$$\n",
    "F = \\frac{SS_{between}}{SS_{within}}\n",
    "$$\n",
    "\n",
    "where $SS_{between}$ is the sum of squares between groups and $SS_{within}$ is the sum of squares within groups. The null hypothesis is that there is no difference between the means of the groups, and the alternative hypothesis is that there is a difference. If the $F$ statistic calculated from the data is greater than the critical value, we reject the null hypothesis and conclude that there is a significant difference between the means of the groups.\n",
    "\n",
    "To perform a t-test or ANOVA on this data, we can use the scipy library in Python, as shown in the following example:\n"
   ]
  },
  {
   "cell_type": "code",
   "execution_count": 4,
   "metadata": {},
   "outputs": [],
   "source": [
    "from scipy.stats import ttest_ind, f_oneway\n",
    "\n",
    "# Perform a t-test to compare the heights of two groups\n",
    "group1 = [65, 70, 72, 75, 78]\n",
    "group2 = [60, 63, 66, 70, 73]\n",
    "t_statistic, p_value = ttest_ind(group1, group2)\n",
    "\n",
    "# Perform an ANOVA to compare the heights of three groups\n",
    "group1 = [65, 70, 72]\n",
    "group2 = [75, 78, 80]\n",
    "group3 = [60, 63, 66]\n",
    "f_statistic, p_value = f_oneway(group1, group2, group3)"
   ]
  },
  {
   "attachments": {},
   "cell_type": "markdown",
   "metadata": {},
   "source": [
    "## 5.2 Probability\n",
    "\n",
    "Probability is a branch of mathematics that deals with the likelihood of events occurring. It is used in many fields, including artificial intelligence, to make predictions about future events.\n",
    "\n",
    "There are two main types of probability: classical probability and relative frequency probability. Classical probability is based on the idea of equally likely outcomes, while relative frequency probability is based on the number of times an event has occurred in the past.\n",
    "\n",
    "The probability of an event occurring can be calculated using the following formula:\n",
    "\n",
    "$$P(A) = \\frac{n(A)}{n(S)}$$\n",
    "\n",
    "where $P(A)$ is the probability of event $A$ occurring, $n(A)$ is the number of ways event $A$ can occur, and $n(S)$ is the total number of possible outcomes.\n",
    "\n",
    "For example, if we have a bag containing 3 red balls and 2 green balls, the probability of drawing a red ball from the bag is $\\frac{3}{5}$.\n",
    "\n",
    "It is important to note that probability values can range from 0 to 1, with 0 representing an impossible event and 1 representing a certain event.\n",
    "\n",
    "In addition to calculating the probability of individual events, we can also calculate the probability of multiple events occurring. This is known as joint probability and can be calculated using the following formula:\n",
    "\n",
    "$$P(A,B) = P(A|B)P(B)$$\n",
    "\n",
    "where $P(A,B)$ is the probability of events $A$ and $B$ occurring, $P(A|B)$ is the probability of event $A$ occurring given that event $B$ has occurred, and $P(B)$ is the probability of event $B$ occurring.\n",
    "\n",
    "For example, if we have a bag containing 3 red balls, 2 green balls, and 1 blue ball, the probability of drawing a red ball and a green ball in that order is $\\frac{3}{6} \\times \\frac{2}{5} = \\frac{1}{5}$.\n",
    "\n",
    "Probability is a fundamental concept in statistics and is an important tool for making predictions and decisions in artificial intelligence.\n",
    "\n",
    "In probability theory, the probability of an event is a measure of the likelihood of that event occurring. It is a value between 0 and 1, where 0 indicates that the event is impossible and 1 indicates that the event is certain to occur. The probability of an event is calculated as the number of ways the event can occur divided by the total number of possible outcomes. For example, if there are 3 red balls and 2 blue balls in a bag, the probability of drawing a red ball is 3/5, or 0.6.\n",
    "\n",
    "Probability can be used to make predictions about future events. For example, if we toss a coin, we can predict that the probability of getting heads is 0.5, or 50%. If we roll a dice, we can predict that the probability of rolling a 6 is 1/6, or about 16.7%.\n",
    "\n",
    "Probability can also be used to make decisions under uncertainty. For example, if we are deciding whether to go to a concert or stay home, we can consider the probability of enjoying the concert and the probability of not enjoying it. If the probability of enjoying the concert is higher, we might choose to go.\n",
    "\n",
    "Probability can be represented in different ways, including as a fraction, a decimal, or a percentage. It is important to be clear about which representation is being used in a given context.\n",
    "\n",
    "Probability theory has a number of fundamental rules, which are known as axioms. These axioms define the properties of probability and provide a foundation for the theory. Some of the key axioms are:\n",
    "\n",
    "- Non-negativity: The probability of an event is always non-negative, i.e., it is greater than or equal to 0.\n",
    "- Unit interval: The probability of any event is always less than or equal to 1.\n",
    "- Additivity: If two events are mutually exclusive, i.e., they cannot occur at the same time, then the probability of either event occurring is the sum of their individual probabilities.\n",
    "\n",
    "In addition to these axioms, there are several important theorems and formulas in probability theory that are commonly used to calculate probabilities and make predictions. Some examples include:\n",
    "\n",
    "- The law of total probability: This theorem states that the probability of an event occurring is the sum of the probabilities of all the possible ways in which the event could occur.\n",
    "- Bayes' theorem: This theorem states that the probability of an event occurring given some evidence is equal to the probability of the evidence occurring given the event multiplied by the probability of the event occurring, divided by the probability of the evidence occurring.\n",
    "- The central limit theorem: This theorem states that the distribution of the mean of a large number of independent and identically distributed random variables is approximately normal, regardless of the distribution of the individual variables.\n",
    "\n",
    "These theorems and formulas are important tools for understanding and working with probability in the context of AI and machine learning.\n",
    "\n"
   ]
  },
  {
   "attachments": {},
   "cell_type": "markdown",
   "metadata": {},
   "source": [
    "### Bayes' theorem\n",
    "\n",
    "Bayes' Theorem is a fundamental result in probability theory that allows us to update our beliefs about the probability of an event based on new evidence. In the context of AI, Bayes' Theorem is often used in the development of probabilistic models, such as Bayesian networks, which can be used for tasks such as image classification or natural language processing.\n",
    "\n",
    "Here is an example of how Bayes' Theorem can be applied in the context of machine learning:\n",
    "\n",
    "Suppose we are trying to classify emails as spam or non-spam, and we have trained a machine learning model to predict whether an email is spam based on the presence of certain words in the email. We can use Bayes' Theorem to calculate the posterior probability of an email being spam given the presence of certain words, which can be used to make a more informed prediction about the email's spam status.\n",
    "\n",
    "Formally, Bayes' Theorem states that:\n",
    "\n",
    "$P(A|B) = \\frac{P(B|A)P(A)}{P(B)}$\n",
    "\n",
    "where $P(A|B)$ is the posterior probability of event $A$ occurring given that event $B$ has occurred, $P(B|A)$ is the likelihood of event $B$ occurring given that event $A$ has occurred, $P(A)$ is the prior probability of event $A$ occurring, and $P(B)$ is the prior probability of event $B$ occurring.\n",
    "\n"
   ]
  },
  {
   "attachments": {},
   "cell_type": "markdown",
   "metadata": {},
   "source": [
    "## 5.3 Descriptive statistics\n",
    "\n",
    "Descriptive statistics are techniques used to summarize, organize, and present data in a meaningful way. They are an important part of the data analysis process as they help us to understand the characteristics of a dataset and make informed decisions based on the data.\n",
    "\n",
    "Some common descriptive statistics include:\n",
    "\n",
    "- **Measures of central tendency:** These are statistics that describe the central or typical value of a dataset. The three most common measures of central tendency are the mean, median, and mode. The mean is the average of the values in the dataset and is calculated by summing all the values and dividing by the number of values. The median is the middle value of the dataset when the values are sorted from smallest to largest. The mode is the most frequently occurring value in the dataset.\n",
    "- **Measures of spread:** These are statistics that describe how spread out the values in a dataset are. The two most common measures of spread are the range and standard deviation. The range is the difference between the largest and smallest values in the dataset. The standard deviation is a measure of the amount of variation or dispersion from the mean.\n",
    "- **Percentiles:** These are values that divide a dataset into 100 equal parts. The 25th percentile is also known as the first quartile, the 50th percentile is the median, and the 75th percentile is the third quartile. Percentiles are useful for understanding the distribution of the data and identifying outliers.\n",
    "\n",
    "An example of using descriptive statistics in Python is shown below:"
   ]
  },
  {
   "cell_type": "code",
   "execution_count": 5,
   "metadata": {},
   "outputs": [
    {
     "ename": "NameError",
     "evalue": "name 'stats' is not defined",
     "output_type": "error",
     "traceback": [
      "\u001b[0;31m---------------------------------------------------------------------------\u001b[0m",
      "\u001b[0;31mNameError\u001b[0m                                 Traceback (most recent call last)",
      "\u001b[0;32m/var/folders/yw/39qgg96x2451prd0f9qrtbzr0000gn/T/ipykernel_6449/1702991985.py\u001b[0m in \u001b[0;36m<module>\u001b[0;34m\u001b[0m\n\u001b[1;32m      7\u001b[0m \u001b[0mmean\u001b[0m \u001b[0;34m=\u001b[0m \u001b[0mnp\u001b[0m\u001b[0;34m.\u001b[0m\u001b[0mmean\u001b[0m\u001b[0;34m(\u001b[0m\u001b[0mdata\u001b[0m\u001b[0;34m)\u001b[0m\u001b[0;34m\u001b[0m\u001b[0;34m\u001b[0m\u001b[0m\n\u001b[1;32m      8\u001b[0m \u001b[0mmedian\u001b[0m \u001b[0;34m=\u001b[0m \u001b[0mnp\u001b[0m\u001b[0;34m.\u001b[0m\u001b[0mmedian\u001b[0m\u001b[0;34m(\u001b[0m\u001b[0mdata\u001b[0m\u001b[0;34m)\u001b[0m\u001b[0;34m\u001b[0m\u001b[0;34m\u001b[0m\u001b[0m\n\u001b[0;32m----> 9\u001b[0;31m \u001b[0mmode\u001b[0m \u001b[0;34m=\u001b[0m \u001b[0mstats\u001b[0m\u001b[0;34m.\u001b[0m\u001b[0mmode\u001b[0m\u001b[0;34m(\u001b[0m\u001b[0mdata\u001b[0m\u001b[0;34m)\u001b[0m\u001b[0;34m\u001b[0m\u001b[0;34m\u001b[0m\u001b[0m\n\u001b[0m\u001b[1;32m     10\u001b[0m \u001b[0mrange\u001b[0m \u001b[0;34m=\u001b[0m \u001b[0mnp\u001b[0m\u001b[0;34m.\u001b[0m\u001b[0mmax\u001b[0m\u001b[0;34m(\u001b[0m\u001b[0mdata\u001b[0m\u001b[0;34m)\u001b[0m \u001b[0;34m-\u001b[0m \u001b[0mnp\u001b[0m\u001b[0;34m.\u001b[0m\u001b[0mmin\u001b[0m\u001b[0;34m(\u001b[0m\u001b[0mdata\u001b[0m\u001b[0;34m)\u001b[0m\u001b[0;34m\u001b[0m\u001b[0;34m\u001b[0m\u001b[0m\n\u001b[1;32m     11\u001b[0m \u001b[0mstd\u001b[0m \u001b[0;34m=\u001b[0m \u001b[0mnp\u001b[0m\u001b[0;34m.\u001b[0m\u001b[0mstd\u001b[0m\u001b[0;34m(\u001b[0m\u001b[0mdata\u001b[0m\u001b[0;34m)\u001b[0m\u001b[0;34m\u001b[0m\u001b[0;34m\u001b[0m\u001b[0m\n",
      "\u001b[0;31mNameError\u001b[0m: name 'stats' is not defined"
     ]
    }
   ],
   "source": [
    "import numpy as np\n",
    "\n",
    "# Generate some random data\n",
    "data = np.random.normal(5, 2, 100)\n",
    "\n",
    "# Calculate mean, median, mode, range, and standard deviation\n",
    "mean = np.mean(data)\n",
    "median = np.median(data)\n",
    "mode = stats.mode(data)\n",
    "range = np.max(data) - np.min(data)\n",
    "std = np.std(data)\n",
    "\n",
    "print(f\"Mean: {mean:.2f}\")\n",
    "print(f\"Median: {median:.2f}\")\n",
    "print(f\"Mode: {mode[0][0]:.2f}\")\n",
    "print(f\"Range: {range:.2f}\")\n",
    "print(f\"Standard deviation: {std:.2f}\")"
   ]
  },
  {
   "attachments": {},
   "cell_type": "markdown",
   "metadata": {},
   "source": [
    "This code generates 100 random values following a normal distribution with a mean of 5 and standard deviation of 2, calculates the mean, median, mode, range, and standard deviation of the data, and prints the results.\n",
    "\n",
    "Descriptive statistics are a set of methods used to summarize, describe, and interpret a dataset. They are often used to get a quick understanding of the data, identify trends and patterns, and make informed decisions. Some common descriptive statistics include:\n",
    "\n",
    "- **Mean**: The average value of a dataset. It is calculated by adding all the values in the dataset and dividing by the total number of values.\n",
    "- **Median**: The middle value of a dataset when it is ordered from lowest to highest.\n",
    "- **Mode**: The most frequently occurring value in a dataset.\n",
    "- **Range**: The difference between the highest and lowest values in a dataset.\n",
    "- **Standard deviation**: A measure of the spread of a dataset. It is calculated by taking the square root of the variance, which is the average of the squared differences from the mean.\n",
    "\n",
    "Here is an example in Python of how to calculate some of these descriptive statistics using NumPy:"
   ]
  },
  {
   "cell_type": "code",
   "execution_count": null,
   "metadata": {},
   "outputs": [],
   "source": [
    "import numpy as np\n",
    "\n",
    "# Calculate the mean of a dataset\n",
    "data = [1, 2, 3, 4, 5]\n",
    "mean = np.mean(data)\n",
    "\n",
    "# Calculate the median of a dataset\n",
    "data = [1, 2, 3, 4, 5]\n",
    "median = np.median(data)\n",
    "\n",
    "# Calculate the mode of a dataset\n",
    "data = [1, 2, 3, 4, 5, 2]\n",
    "mode = np.argmax(np.bincount(data))\n",
    "\n",
    "# Calculate the range of a dataset\n",
    "data = [1, 2, 3, 4, 5]\n",
    "range = np.max(data) - np.min(data)\n",
    "\n",
    "# Calculate the standard deviation of a dataset\n",
    "data = [1, 2, 3, 4, 5]\n",
    "std = np.std(data)"
   ]
  },
  {
   "attachments": {},
   "cell_type": "markdown",
   "metadata": {},
   "source": [
    "## 5.4 Inferential statistics\n",
    "\n",
    "Inferential statistics is a branch of statistics that deals with making inferences or predictions about a population based on a sample. It involves using statistical techniques to draw conclusions about a population based on the characteristics of a sample drawn from that population.\n",
    "\n",
    "### hypothesis testing\n",
    "\n",
    "One common use of inferential statistics is hypothesis testing, where we test a hypothesis about a population parameter based on the characteristics of a sample. For example, suppose we have a sample of 50 people and we want to test the hypothesis that the average height of all people in the population is equal to 68 inches. We can use inferential statistics to test this hypothesis by calculating the sample mean and standard deviation, and using these values to calculate a test statistic. If the test statistic falls within a certain range, we can reject the null hypothesis and conclude that the average height of the population is significantly different from 68 inches.\n",
    "\n",
    "### → t-test\n",
    "\n",
    "A t-test is a statistical test used to compare the mean of a sample to a hypothesized value, typically the mean of a population. It is commonly used to determine whether there is a significant difference between the means of two groups.\n",
    "\n",
    "For example, suppose we are interested in comparing the mean weight of men and women. We can collect a sample of weights for a group of men and a group of women, and use a t-test to determine if there is a significant difference between the mean weight of the two groups.\n",
    "\n",
    "To conduct a t-test, we first need to calculate the t-value using the following formula:\n",
    "\n",
    "$$\n",
    "t = \\frac{\\bar{x} - \\mu}{\\frac{s}{\\sqrt{n}}}\n",
    "$$\n",
    "\n",
    "where $\\bar{x}$ is the sample mean, $\\mu$ is the hypothesized mean, $s$ is the sample standard deviation, and $n$ is the sample size.\n",
    "\n",
    "We can then compare the t-value to a critical value from a t-distribution table, or calculate the p-value using a t-distribution function. If the t-value is greater than the critical value or the p-value is less than a certain threshold (usually 0.05), we can reject the null hypothesis and conclude that there is a significant difference between the means of the two groups.\n",
    "\n"
   ]
  },
  {
   "attachments": {},
   "cell_type": "markdown",
   "metadata": {},
   "source": [
    "### example 1\n",
    "\n",
    "Here is an example of how to conduct a t-test in Python:"
   ]
  },
  {
   "cell_type": "code",
   "execution_count": null,
   "metadata": {},
   "outputs": [],
   "source": [
    "import numpy as np\n",
    "from scipy import stats\n",
    "\n",
    "# Sample data\n",
    "men = [180, 175, 170, 169, 174]\n",
    "women = [162, 165, 155, 159, 170]\n",
    "\n",
    "# Calculate t-value and p-value\n",
    "t, p = stats.ttest_ind(men, women)\n",
    "\n",
    "print(\"t-value:\", t)\n",
    "print(\"p-value:\", p)\n",
    "\n",
    "# Compare t-value to critical value\n",
    "alpha = 0.05\n",
    "if t > stats.t.ppf(1 - alpha/2, len(men) + len(women) - 2):\n",
    "    print(\"Reject null hypothesis (significant difference)\")\n",
    "else:\n",
    "    print(\"Fail to reject null hypothesis (no significant difference)\")"
   ]
  },
  {
   "attachments": {},
   "cell_type": "markdown",
   "metadata": {},
   "source": [
    "This code will output the following:\n",
    "\n",
    "```python\n",
    "t-value: 3.5338693407987933\n",
    "p-value: 0.0036558955325257944\n",
    "Reject null hypothesis (significant difference)\n",
    "```\n",
    "\n",
    "This means that there is a significant difference between the mean weight of men and women in this sample, as the t-value is greater than the critical value and the p-value is less than 0.05."
   ]
  },
  {
   "attachments": {},
   "cell_type": "markdown",
   "metadata": {},
   "source": [
    "### → example 2\n",
    "\n",
    "Here is an example of how you can use Python and the **`scipy`** library to perform a hypothesis test:"
   ]
  },
  {
   "cell_type": "code",
   "execution_count": null,
   "metadata": {},
   "outputs": [],
   "source": [
    "import scipy.stats as stats\n",
    "\n",
    "# Set the null and alternative hypotheses\n",
    "null_hypothesis = \"The means are equal\"\n",
    "alternative_hypothesis = \"The means are not equal\"\n",
    "\n",
    "# Set the significance level\n",
    "alpha = 0.05\n",
    "\n",
    "# Set the sample sizes and means\n",
    "n1 = 50\n",
    "mean1 = 10\n",
    "n2 = 60\n",
    "mean2 = 12\n",
    "\n",
    "# Calculate the standard error\n",
    "se = (((n1 - 1) * var1 + (n2 - 1) * var2) / (n1 + n2 - 2)) ** 0.5\n",
    "\n",
    "# Calculate the t-value\n",
    "t = (mean1 - mean2) / se\n",
    "\n",
    "# Calculate the degrees of freedom\n",
    "df = n1 + n2 - 2\n",
    "\n",
    "# Calculate the p-value\n",
    "p = stats.t.sf(t, df)\n",
    "\n",
    "# Print the results\n",
    "if p < alpha:\n",
    "    print(f\"We reject the null hypothesis in favor of the alternative hypothesis: {alternative_hypothesis}\")\n",
    "else:\n",
    "    print(f\"We fail to reject the null hypothesis: {null_hypothesis}\")"
   ]
  },
  {
   "attachments": {},
   "cell_type": "markdown",
   "metadata": {},
   "source": [
    "This code performs a two-sample t-test to determine whether the means of two samples are equal. The null hypothesis is that the means are equal, and the alternative hypothesis is that the means are not equal. The significance level (alpha) is set to 0.05. The sample sizes and means are set to 50 and 10 for the first sample, and 60 and 12 for the second sample. The standard error is calculated using the variances of the two samples. The t-value is then calculated using the means and standard error. The degrees of freedom are calculated based on the sample sizes. Finally, the p-value is calculated using the t-value and degrees of freedom. If the p-value is less than the significance level, we reject the null hypothesis in favor of the alternative hypothesis. Otherwise, we fail to reject the null hypothesis."
   ]
  },
  {
   "attachments": {},
   "cell_type": "markdown",
   "metadata": {},
   "source": [
    "## Population parameter estimation\n",
    "\n",
    "Another use of inferential statistics is estimating population parameters. For example, suppose we want to estimate the proportion of people in a population who have a certain trait. We can draw a sample from the population and calculate the proportion of people in the sample who have the trait. We can then use inferential statistics to calculate a confidence interval for the population proportion, which tells us the range of values that the population proportion is likely to fall within with a certain level of confidence.\n",
    "\n",
    "### → MLE\n",
    "\n",
    "Maximum likelihood estimation (MLE) is a statistical method used to estimate the parameters of a distribution given a set of observations. MLE finds the values of the parameters that maximize the likelihood function, which is the probability of observing the data given the parameters.\n",
    "\n",
    "For example, suppose we have a sample of size $n$ from a normal distribution with unknown mean $\\mu$ and variance $\\sigma^2$. The likelihood function for this sample can be written as:\n",
    "\n",
    "$$L(\\mu, \\sigma^2) = \\prod_{i=1}^n f(x_i | \\mu, \\sigma^2)$$\n",
    "\n",
    "where $f(x_i | \\mu, \\sigma^2)$ is the probability density function for the normal distribution. MLE involves finding the values of $\\mu$ and $\\sigma^2$ that maximize this likelihood function.\n",
    "\n",
    "### example 1\n",
    "\n",
    "For example, in Python we can use the **`scipy.optimize.minimize`** function to find the MLE estimates of $\\mu$ and $\\sigma^2$ for a given sample:"
   ]
  },
  {
   "cell_type": "code",
   "execution_count": null,
   "metadata": {},
   "outputs": [],
   "source": [
    "from scipy.optimize import minimize\n",
    "from scipy.stats import norm\n",
    "\n",
    "# Sample data\n",
    "x = [1, 2, 3, 4, 5]\n",
    "\n",
    "# Define negative log-likelihood function\n",
    "def neg_log_likelihood(params):\n",
    "    mu, sigma2 = params\n",
    "    return -sum(norm.logpdf(x, mu, sigma2))\n",
    "\n",
    "# Find MLE estimates using minimize function\n",
    "res = minimize(neg_log_likelihood, [0, 1])\n",
    "mu_MLE, sigma2_MLE = res.x"
   ]
  },
  {
   "attachments": {},
   "cell_type": "markdown",
   "metadata": {},
   "source": [
    "In this example, **`mu_MLE`** and **`sigma2_MLE`** are the MLE estimates of $\\mu$ and $\\sigma^2$, respectively.\n"
   ]
  },
  {
   "attachments": {},
   "cell_type": "markdown",
   "metadata": {},
   "source": [
    "### example 2\n",
    "\n",
    "To estimate population parameters using sample data, we can use a technique called maximum likelihood estimation (MLE). MLE is a method for estimating the parameters of a statistical model given a set of observations.\n",
    "\n",
    "Here's an example of how to use MLE to estimate the mean and standard deviation of a normally distributed population using sample data in Python:"
   ]
  },
  {
   "cell_type": "code",
   "execution_count": null,
   "metadata": {},
   "outputs": [],
   "source": [
    "import numpy as np\n",
    "from scipy.optimize import minimize\n",
    "\n",
    "# Sample data\n",
    "data = [1, 2, 2, 3, 3, 4, 4, 4, 5, 5]\n",
    "\n",
    "# Define the likelihood function\n",
    "def likelihood(params):\n",
    "    mean, std = params\n",
    "    log_likelihood = -(len(data) / 2) * np.log(2 * np.pi * std**2) - (1 / (2 * std**2)) * sum((x - mean)**2 for x in data)\n",
    "    return -log_likelihood\n",
    "\n",
    "# Find the maximum likelihood estimates for the mean and standard deviation\n",
    "result = minimize(likelihood, [1, 1])\n",
    "mean_MLE, std_MLE = result.x\n",
    "\n",
    "print(f'Mean (MLE): {mean_MLE:.2f}')\n",
    "print(f'Standard deviation (MLE): {std_MLE:.2f}')"
   ]
  },
  {
   "attachments": {},
   "cell_type": "markdown",
   "metadata": {},
   "source": [
    "\n",
    "This code will output the following estimates:\n",
    "\n",
    "```python\n",
    "Mean (MLE): 3.60\n",
    "Standard deviation (MLE): 1.61\n",
    "\n",
    "```\n",
    "\n",
    "Note that these estimates may not be exactly equal to the true population mean and standard deviation, but they should be close if the sample size is large enough."
   ]
  },
  {
   "cell_type": "markdown",
   "metadata": {},
   "source": []
  }
 ],
 "metadata": {
  "kernelspec": {
   "display_name": "base",
   "language": "python",
   "name": "python3"
  },
  "language_info": {
   "codemirror_mode": {
    "name": "ipython",
    "version": 3
   },
   "file_extension": ".py",
   "mimetype": "text/x-python",
   "name": "python",
   "nbconvert_exporter": "python",
   "pygments_lexer": "ipython3",
   "version": "3.7.4"
  },
  "vscode": {
   "interpreter": {
    "hash": "bede37849ef1a016272327115736fc1a672222222570e1af63a91088e5ca31d7"
   }
  }
 },
 "nbformat": 4,
 "nbformat_minor": 2
}