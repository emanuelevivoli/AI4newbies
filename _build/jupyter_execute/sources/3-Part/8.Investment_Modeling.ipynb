{
 "cells": [
  {
   "attachments": {},
   "cell_type": "markdown",
   "metadata": {},
   "source": [
    "# 8. Investment Modeling"
   ]
  },
  {
   "attachments": {},
   "cell_type": "markdown",
   "metadata": {},
   "source": [
    "  \n",
    "\n",
    "## 8.1 Introduction to investment modeling\n"
   ]
  },
  {
   "attachments": {},
   "cell_type": "markdown",
   "metadata": {},
   "source": [
    "\n",
    "Investment modeling is a type of financial modeling that aims to forecast the performance of a financial asset or portfolio of assets. It is commonly used by investors, financial analysts, and portfolio managers to make informed decisions about buying, selling, or holding financial assets. There are many different techniques and approaches to investment modeling, including fundamental analysis, technical analysis, and quantitative analysis.\n",
    "\n",
    "Fundamental analysis involves examining the underlying economic and financial factors that may influence the value of an asset. This may include analyzing the financial statements and performance of a company, as well as macroeconomic factors such as interest rates and economic growth. Technical analysis involves using statistical and graphical techniques to analyze the historical price and volume data of a financial asset in order to forecast its future performance. Quantitative analysis involves using mathematical and statistical techniques to analyze data and make predictions about future outcomes.\n",
    "\n",
    "Investment modeling can be used to forecast the performance of a single asset, such as a stock or bond, or a portfolio of assets, such as a mutual fund or exchange-traded fund (ETF). It can also be used to optimize portfolio construction and risk management strategies.\n"
   ]
  },
  {
   "attachments": {},
   "cell_type": "markdown",
   "metadata": {},
   "source": [
    "## 8.2 Portfolio optimization"
   ]
  },
  {
   "attachments": {},
   "cell_type": "markdown",
   "metadata": {},
   "source": [
    "In investment modeling, portfolio optimization refers to the process of selecting a set of investments that maximizes returns while minimizing risk. This can be achieved by finding the optimal allocation of assets within a portfolio, taking into account factors such as the expected returns, risks, and correlations of the different assets.\n",
    "\n",
    "One common approach to portfolio optimization is to use mean-variance optimization, where the portfolio is constructed to maximize the expected return for a given level of risk, or to minimize risk for a given level of expected return. This involves calculating the mean and variance of the returns for each asset in the portfolio, and using optimization algorithms to find the optimal weightings for the assets.\n",
    "\n",
    "Another approach to portfolio optimization is to use risk-parity, where the portfolio is constructed such that each asset contributes equally to the overall risk of the portfolio. This can be achieved by setting the weights of the assets inversely proportional to their volatility, such that less volatile assets have higher weights and more volatile assets have lower weights.\n",
    "\n",
    "In both cases, the optimization process typically involves constraints on the weights of the assets, such as minimum and maximum weightings and limits on the total number of assets in the portfolio.\n",
    "\n",
    "In the context of deep learning, portfolio optimization can be tackled using techniques such as reinforcement learning, where a model is trained to maximize returns while minimizing risk by learning from historical data and making decisions based on the predicted outcomes."
   ]
  },
  {
   "attachments": {},
   "cell_type": "markdown",
   "metadata": {},
   "source": [
    "### example\n",
    "\n",
    "Here is an example of using reinforcement learning for portfolio optimization in Python using the PyTorch library:"
   ]
  },
  {
   "cell_type": "code",
   "execution_count": 1,
   "metadata": {},
   "outputs": [
    {
     "ename": "ModuleNotFoundError",
     "evalue": "No module named 'torch'",
     "output_type": "error",
     "traceback": [
      "\u001b[0;31m---------------------------------------------------------------------------\u001b[0m",
      "\u001b[0;31mModuleNotFoundError\u001b[0m                       Traceback (most recent call last)",
      "\u001b[0;32m/var/folders/yw/39qgg96x2451prd0f9qrtbzr0000gn/T/ipykernel_6611/4094001917.py\u001b[0m in \u001b[0;36m<module>\u001b[0;34m\u001b[0m\n\u001b[1;32m      1\u001b[0m \u001b[0;32mimport\u001b[0m \u001b[0mnumpy\u001b[0m \u001b[0;32mas\u001b[0m \u001b[0mnp\u001b[0m\u001b[0;34m\u001b[0m\u001b[0;34m\u001b[0m\u001b[0m\n\u001b[0;32m----> 2\u001b[0;31m \u001b[0;32mimport\u001b[0m \u001b[0mtorch\u001b[0m\u001b[0;34m\u001b[0m\u001b[0;34m\u001b[0m\u001b[0m\n\u001b[0m\u001b[1;32m      3\u001b[0m \u001b[0;32mimport\u001b[0m \u001b[0mtorch\u001b[0m\u001b[0;34m.\u001b[0m\u001b[0mnn\u001b[0m \u001b[0;32mas\u001b[0m \u001b[0mnn\u001b[0m\u001b[0;34m\u001b[0m\u001b[0;34m\u001b[0m\u001b[0m\n\u001b[1;32m      4\u001b[0m \u001b[0;32mimport\u001b[0m \u001b[0mtorch\u001b[0m\u001b[0;34m.\u001b[0m\u001b[0moptim\u001b[0m \u001b[0;32mas\u001b[0m \u001b[0moptim\u001b[0m\u001b[0;34m\u001b[0m\u001b[0;34m\u001b[0m\u001b[0m\n\u001b[1;32m      5\u001b[0m \u001b[0;34m\u001b[0m\u001b[0m\n",
      "\u001b[0;31mModuleNotFoundError\u001b[0m: No module named 'torch'"
     ]
    }
   ],
   "source": [
    "import numpy as np\n",
    "import torch\n",
    "import torch.nn as nn\n",
    "import torch.optim as optim\n",
    "\n",
    "# Define the reinforcement learning agent\n",
    "class Agent(nn.Module):\n",
    "    def __init__(self, input_size, output_size):\n",
    "        super(Agent, self).__init__()\n",
    "        self.fc1 = nn.Linear(input_size, 128)\n",
    "        self.fc2 = nn.Linear(128, 128)\n",
    "        self.fc3 = nn.Linear(128, output_size)\n",
    "\n",
    "    def forward(self, x):\n",
    "        x = torch.relu(self.fc1(x))\n",
    "        x = torch.relu(self.fc2(x))\n",
    "        x = self.fc3(x)\n",
    "        return x\n",
    "\n",
    "# Initialize the agent and set the learning rate\n",
    "agent = Agent(input_size=n_stocks, output_size=n_stocks)\n",
    "learning_rate = 0.001\n",
    "optimizer = optim.Adam(agent.parameters(), lr=learning_rate)\n",
    "\n",
    "# Set the number of episodes and the discount factor\n",
    "n_episodes = 1000\n",
    "discount_factor = 0.99\n",
    "\n",
    "# Train the agent using reinforcement learning\n",
    "for episode in range(n_episodes):\n",
    "    # Get the current state and calculate the action probabilities\n",
    "    state = torch.tensor(portfolio_weights, dtype=torch.float).unsqueeze(0)\n",
    "    action_probs = agent(state)\n",
    "\n",
    "    # Sample an action from the action probabilities\n",
    "    action = torch.multinomial(action_probs, 1).item()\n",
    "\n",
    "    # Calculate the reward and the next state\n",
    "    reward = portfolio_returns[action]\n",
    "    next_state = torch.tensor(new_weights[action], dtype=torch.float).unsqueeze(0)\n",
    "\n",
    "    # Calculate the expected return\n",
    "    expected_return = reward + discount_factor * agent(next_state).max().item()\n",
    "\n",
    "    # Calculate the loss and optimize the model\n",
    "    loss = -torch.log(action_probs[0, action]) * expected_return\n",
    "    optimizer.zero_grad()\n",
    "    loss.backward()\n",
    "    optimizer.step()\n",
    "\n",
    "# After training, use the trained model to select the optimal portfolio weights\n",
    "state = torch.tensor(portfolio_weights, dtype=torch.float).unsqueeze(0)\n",
    "action_probs = agent(state)\n",
    "optimal_action = action_probs.argmax().item()\n",
    "optimal_weights = new_weights[optimal_action]"
   ]
  },
  {
   "attachments": {},
   "cell_type": "markdown",
   "metadata": {},
   "source": [
    "This code defines a reinforcement learning agent with a simple fully-connected neural network and trains it to optimize the portfolio weights by maximizing the expected return. The agent takes the current portfolio weights as input and outputs a probability distribution over the possible actions (i.e., the possible new portfolio weights). The agent samples an action from this probability distribution, calculates the reward (i.e., the return of the new portfolio), and updates the model based on the expected return. \n",
    "\n",
    "Once the portfolio has been updated, the process is repeated for the next time step. This continues until the end of the investment horizon is reached. At that point, the final portfolio and its associated returns are calculated and compared to the benchmark.\n",
    "\n",
    "One key aspect of reinforcement learning in investment modeling is the choice of reward function. This function determines the goal of the agent and guides its actions. In the case of portfolio optimization, a common choice is to maximize the portfolio's Sharpe ratio, which measures the risk-adjusted returns of the portfolio. Other reward functions, such as the Sortino ratio or the Omega ratio, can also be used.\n",
    "\n",
    "It's important to note that reinforcement learning in investment modeling is still an active area of research, and there are many open questions and challenges that need to be addressed. Some of these include how to effectively handle non-stationary environments, how to incorporate constraints on the portfolio, and how to handle large-scale problems with high dimensional state and action spaces. Despite these challenges, the potential for reinforcement learning to improve investment decision-making makes it an exciting area to watch in the future."
   ]
  },
  {
   "attachments": {},
   "cell_type": "markdown",
   "metadata": {},
   "source": [
    "### example with stable-baselines\n",
    "\n",
    "Here is an example of portfolio optimization using reinforcement learning in Python with the library **`stable-baselines3`**:"
   ]
  },
  {
   "cell_type": "code",
   "execution_count": null,
   "metadata": {},
   "outputs": [],
   "source": [
    "import numpy as np\n",
    "import pandas as pd\n",
    "from stable_baselines3 import DDPG\n",
    "from stable_baselines3.common.vec_env import DummyVecEnv\n",
    "from stable_baselines3.ddpg.policies import MlpPolicy\n",
    "\n",
    "# Load the data\n",
    "data = pd.read_csv('stock_prices.csv')\n",
    "\n",
    "# Preprocess the data\n",
    "returns = data.pct_change().dropna()\n",
    "\n",
    "# Define the environment\n",
    "n_assets = returns.shape[1]\n",
    "\n",
    "def get_obs():\n",
    "  return np.expand_dims(returns.values[-1], axis=0)\n",
    "\n",
    "def reward_fun(action):\n",
    "  action = np.squeeze(action)\n",
    "  portfolio_return = np.sum(returns.values[-1] * action)\n",
    "  sharpe_ratio = portfolio_return / np.std(returns.values[-1] * action)\n",
    "  return sharpe_ratio\n",
    "\n",
    "env = DummyVecEnv([lambda: returns])\n",
    "\n",
    "# Create the reinforcement learning agent\n",
    "model = DDPG(MlpPolicy, env, verbose=1)\n",
    "\n",
    "# Train the agent\n",
    "model.learn(total_timesteps=10000)\n",
    "\n",
    "# Test the agent\n",
    "action, _states = model.predict(get_obs())\n",
    "print(action)"
   ]
  },
  {
   "attachments": {},
   "cell_type": "markdown",
   "metadata": {},
   "source": [
    "## 8.3 Risk assessment\n",
    "\n"
   ]
  },
  {
   "attachments": {},
   "cell_type": "markdown",
   "metadata": {},
   "source": [
    "Risk assessment in investment modeling refers to the process of evaluating and measuring the potential risks associated with an investment. This is an important step in the investment process as it helps investors make informed decisions about the allocation of their funds.\n",
    "\n",
    "There are several approaches to risk assessment in investment modeling, including statistical methods, fundamental analysis, and technical analysis. Statistical methods involve the use of statistical tools and techniques to evaluate the risk associated with an investment. Fundamental analysis involves evaluating the financial health and performance of a company, while technical analysis involves studying the historical price and volume data of a security.\n",
    "\n",
    "In addition to these approaches, machine learning techniques are also increasingly being used for risk assessment in investment modeling. Machine learning algorithms can analyze large amounts of data and identify patterns and trends that may be indicative of potential risks. For example, a machine learning model trained on historical stock market data could be used to identify patterns that may be indicative of a market crash.\n",
    "\n",
    "Overall, risk assessment is an important step in the investment process as it helps investors make informed decisions about the allocation of their funds. By evaluating the potential risks associated with an investment, investors can make more informed decisions about the allocation of their funds and potentially minimize their risk of losses.\n"
   ]
  },
  {
   "attachments": {},
   "cell_type": "markdown",
   "metadata": {},
   "source": [
    "\n",
    "## 8.4 Case study: Algorithmic trading\n"
   ]
  },
  {
   "attachments": {},
   "cell_type": "markdown",
   "metadata": {},
   "source": [
    "\n",
    "In algorithmic trading, AI models are used to analyze market data and make trades based on predetermined rules. These models can be trained to make trades in response to certain patterns or signals in the market data, such as a sudden change in the price of a particular asset.\n",
    "\n",
    "One example of using AI for algorithmic trading is using a reinforcement learning model to optimize a portfolio. In this case, the model would receive a reward for making profitable trades and a penalty for making unprofitable ones. The model would then learn to make trades that maximize the reward over time.\n",
    "\n",
    "To implement this type of model, we would first need to gather market data and pre-process it to extract relevant features. We could then use this data to train a reinforcement learning model using a technique such as Q-learning. Once the model is trained, we can use it to make trades in real-time as new market data becomes available.\n",
    "\n",
    "Here is an example of how to implement a Q-learning model for portfolio optimization in Python using the PyTorch library:"
   ]
  },
  {
   "cell_type": "code",
   "execution_count": null,
   "metadata": {},
   "outputs": [],
   "source": [
    "import torch\n",
    "import numpy as np\n",
    "\n",
    "# Define the Q-learning model\n",
    "class QLearner(torch.nn.Module):\n",
    "  def __init__(self, num_assets, learning_rate=0.01):\n",
    "    super().__init__()\n",
    "    self.num_assets = num_assets\n",
    "    self.learning_rate = learning_rate\n",
    "\n",
    "    # Define the layers of the model\n",
    "    self.fc1 = torch.nn.Linear(num_assets, 64)\n",
    "    self.fc2 = torch.nn.Linear(64, 32)\n",
    "    self.fc3 = torch.nn.Linear(32, 1)\n",
    "\n",
    "  def forward(self, x):\n",
    "    # Perform forward pass through the model\n",
    "    x = torch.relu(self.fc1(x))\n",
    "    x = torch.relu(self.fc2(x))\n",
    "    x = self.fc3(x)\n",
    "    return x\n",
    "\n",
    "# Initialize the model\n",
    "model = QLearner(num_assets=10)\n",
    "\n",
    "# Define the optimizer and loss function\n",
    "optimizer = torch.optim.SGD(model.parameters(), lr=model.learning_rate)\n",
    "loss_fn = torch.nn.MSELoss()\n",
    "\n",
    "# Loop through training iterations\n",
    "for i in range(1000):\n",
    "  # Sample a batch of data and labels\n",
    "  data = torch.tensor(np.random.randn(32, 10), dtype=torch.float)\n",
    "  labels = torch.tensor(np.random.randn(32, 1), dtype=torch.float)\n",
    "\n",
    "  # Zero the gradients\n",
    "  optimizer.zero_grad()\n",
    "\n",
    "  # Perform a forward pass through the model\n",
    "  outputs = model(data)\n",
    "\n",
    "  # Calculate the loss\n",
    "  loss = loss_fn(outputs, labels)\n",
    "\n",
    "  # Backpropagate the gradients\n",
    "  loss.backward()\n",
    "\n",
    "  # Update the model weights\n",
    "  optimizer.step()\n",
    "\n",
    "# Use the trained model to make trades\n",
    "trades = model(market_data)"
   ]
  },
  {
   "cell_type": "markdown",
   "metadata": {},
   "source": []
  }
 ],
 "metadata": {
  "kernelspec": {
   "display_name": "base",
   "language": "python",
   "name": "python3"
  },
  "language_info": {
   "codemirror_mode": {
    "name": "ipython",
    "version": 3
   },
   "file_extension": ".py",
   "mimetype": "text/x-python",
   "name": "python",
   "nbconvert_exporter": "python",
   "pygments_lexer": "ipython3",
   "version": "3.7.4"
  },
  "vscode": {
   "interpreter": {
    "hash": "bede37849ef1a016272327115736fc1a672222222570e1af63a91088e5ca31d7"
   }
  }
 },
 "nbformat": 4,
 "nbformat_minor": 2
}