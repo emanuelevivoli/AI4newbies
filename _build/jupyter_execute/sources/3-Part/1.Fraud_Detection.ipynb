{
 "cells": [
  {
   "attachments": {},
   "cell_type": "markdown",
   "metadata": {},
   "source": [
    "# 1. Fraud Detection"
   ]
  },
  {
   "attachments": {},
   "cell_type": "markdown",
   "metadata": {},
   "source": [
    "## 1.1 Introduction to fraud detection\n",
    "\n",
    "Fraud detection is a common application of artificial intelligence in many industries. It involves using machine learning algorithms to analyze patterns in data and identify unusual or suspicious activity. Fraud can take many forms, including financial fraud, identity theft, and other types of crime. In order to detect fraud effectively, it is important to have a good understanding of the types of fraud that can occur, as well as the characteristics of fraudulent activity.\n",
    "\n",
    "There are many different techniques that can be used for fraud detection, including supervised learning, unsupervised learning, and semi-supervised learning. In supervised learning, the machine learning algorithm is trained on a labeled dataset, which includes both fraudulent and non-fraudulent examples. The algorithm then uses this training data to learn to distinguish between fraudulent and non-fraudulent activity. In unsupervised learning, the algorithm is not given any labeled examples, but is instead expected to discover patterns in the data on its own. Semi-supervised learning combines elements of both supervised and unsupervised learning, using a small number of labeled examples to guide the algorithm in its discovery of patterns in the data.\n",
    "\n",
    "One of the challenges of fraud detection is the imbalanced nature of the data. Fraudulent activity is typically much rarer than non-fraudulent activity, which can make it difficult for machine learning algorithms to accurately identify fraudulent patterns. To address this issue, it is often necessary to use techniques such as oversampling and undersampling to balance the data and improve the accuracy of the machine learning model."
   ]
  },
  {
   "attachments": {},
   "cell_type": "markdown",
   "metadata": {},
   "source": [
    "## 1.2 Types of fraud\n",
    "\n",
    "Fraud can take many forms and can occur in a variety of contexts. Some common types of fraud include:\n",
    "\n",
    "- Financial fraud, Financial fraud involves the use of deceptive practices for financial gain. This can include things like credit card fraud, identity theft, and money laundering.\n",
    "- Insurance fraud, Insurance fraud involves making false claims or providing false information in order to obtain insurance benefits. This can include things like staging accidents, exaggerating the extent of an injury, or pretending to have lost property that was never actually lost.\n",
    "- Investment fraud, Investment fraud involves persuading individuals to invest in a scheme that is not legitimate. This can include things like Ponzi schemes, pyramid schemes, and investment fraud involving stocks or securities.\n",
    "- Health care fraud, Health care fraud involves making false claims or providing false information in order to obtain health care benefits. This can include things like billing for services that were not provided, using false diagnoses to justify unnecessary treatments, and prescribing unnecessary medications.\n",
    "\n",
    "### Example in Python\n",
    "\n",
    "Here is an example of how fraud detection techniques might be applied in Python:\n"
   ]
  },
  {
   "cell_type": "code",
   "execution_count": 1,
   "metadata": {},
   "outputs": [
    {
     "ename": "FileNotFoundError",
     "evalue": "[Errno 2] No such file or directory: 'fraud_data.npy'",
     "output_type": "error",
     "traceback": [
      "\u001b[0;31m---------------------------------------------------------------------------\u001b[0m",
      "\u001b[0;31mFileNotFoundError\u001b[0m                         Traceback (most recent call last)",
      "\u001b[0;32m/var/folders/yw/39qgg96x2451prd0f9qrtbzr0000gn/T/ipykernel_6542/835039378.py\u001b[0m in \u001b[0;36m<module>\u001b[0;34m\u001b[0m\n\u001b[1;32m      3\u001b[0m \u001b[0;34m\u001b[0m\u001b[0m\n\u001b[1;32m      4\u001b[0m \u001b[0;31m# Load the data\u001b[0m\u001b[0;34m\u001b[0m\u001b[0;34m\u001b[0m\u001b[0;34m\u001b[0m\u001b[0m\n\u001b[0;32m----> 5\u001b[0;31m \u001b[0mX\u001b[0m \u001b[0;34m=\u001b[0m \u001b[0mnp\u001b[0m\u001b[0;34m.\u001b[0m\u001b[0mload\u001b[0m\u001b[0;34m(\u001b[0m\u001b[0;34m\"fraud_data.npy\"\u001b[0m\u001b[0;34m)\u001b[0m\u001b[0;34m\u001b[0m\u001b[0;34m\u001b[0m\u001b[0m\n\u001b[0m\u001b[1;32m      6\u001b[0m \u001b[0my\u001b[0m \u001b[0;34m=\u001b[0m \u001b[0mnp\u001b[0m\u001b[0;34m.\u001b[0m\u001b[0mload\u001b[0m\u001b[0;34m(\u001b[0m\u001b[0;34m\"fraud_labels.npy\"\u001b[0m\u001b[0;34m)\u001b[0m\u001b[0;34m\u001b[0m\u001b[0;34m\u001b[0m\u001b[0m\n\u001b[1;32m      7\u001b[0m \u001b[0;34m\u001b[0m\u001b[0m\n",
      "\u001b[0;32m~/miniconda3/lib/python3.7/site-packages/numpy/lib/npyio.py\u001b[0m in \u001b[0;36mload\u001b[0;34m(file, mmap_mode, allow_pickle, fix_imports, encoding)\u001b[0m\n\u001b[1;32m    415\u001b[0m             \u001b[0mown_fid\u001b[0m \u001b[0;34m=\u001b[0m \u001b[0;32mFalse\u001b[0m\u001b[0;34m\u001b[0m\u001b[0;34m\u001b[0m\u001b[0m\n\u001b[1;32m    416\u001b[0m         \u001b[0;32melse\u001b[0m\u001b[0;34m:\u001b[0m\u001b[0;34m\u001b[0m\u001b[0;34m\u001b[0m\u001b[0m\n\u001b[0;32m--> 417\u001b[0;31m             \u001b[0mfid\u001b[0m \u001b[0;34m=\u001b[0m \u001b[0mstack\u001b[0m\u001b[0;34m.\u001b[0m\u001b[0menter_context\u001b[0m\u001b[0;34m(\u001b[0m\u001b[0mopen\u001b[0m\u001b[0;34m(\u001b[0m\u001b[0mos_fspath\u001b[0m\u001b[0;34m(\u001b[0m\u001b[0mfile\u001b[0m\u001b[0;34m)\u001b[0m\u001b[0;34m,\u001b[0m \u001b[0;34m\"rb\"\u001b[0m\u001b[0;34m)\u001b[0m\u001b[0;34m)\u001b[0m\u001b[0;34m\u001b[0m\u001b[0;34m\u001b[0m\u001b[0m\n\u001b[0m\u001b[1;32m    418\u001b[0m             \u001b[0mown_fid\u001b[0m \u001b[0;34m=\u001b[0m \u001b[0;32mTrue\u001b[0m\u001b[0;34m\u001b[0m\u001b[0;34m\u001b[0m\u001b[0m\n\u001b[1;32m    419\u001b[0m \u001b[0;34m\u001b[0m\u001b[0m\n",
      "\u001b[0;31mFileNotFoundError\u001b[0m: [Errno 2] No such file or directory: 'fraud_data.npy'"
     ]
    }
   ],
   "source": [
    "import numpy as np\n",
    "from sklearn.ensemble import RandomForestClassifier\n",
    "\n",
    "# Load the data\n",
    "X = np.load(\"fraud_data.npy\")\n",
    "y = np.load(\"fraud_labels.npy\")\n",
    "\n",
    "# Split the data into training and testing sets\n",
    "X_train, X_test, y_train, y_test = train_test_split(X, y, test_size=0.2)\n",
    "\n",
    "# Train the model\n",
    "model = RandomForestClassifier()\n",
    "model.fit(X_train, y_train)\n",
    "\n",
    "# Evaluate the model on the test set\n",
    "accuracy = model.score(X_test, y_test)\n",
    "print(\"Test set accuracy: {:.2f}\".format(accuracy))"
   ]
  },
  {
   "attachments": {},
   "cell_type": "markdown",
   "metadata": {},
   "source": [
    "This code uses a random forest classifier to train a model on data related to fraud, and then uses the model to predict whether a given transaction is fraudulent or not. The model is evaluated on a test set to determine its accuracy."
   ]
  },
  {
   "attachments": {},
   "cell_type": "markdown",
   "metadata": {},
   "source": [
    "## 1.3 Detection methods\n",
    "\n",
    "There are several methods that can be used to detect fraudulent activity. Some of the most common methods include:\n",
    "\n",
    "- **Rule-based systems**: These systems rely on a set of pre-defined rules to identify fraudulent activity. For example, a rule-based system might flag any transactions that are larger than a certain amount as potentially fraudulent.\n",
    "- **Behavioral analysis**: This approach involves analyzing the behavior of individuals or groups in order to identify patterns that may indicate fraudulent activity. For example, if an individual's spending patterns suddenly change, this could be a sign of fraudulent activity.\n",
    "- **Machine learning**: Machine learning algorithms can be trained to identify patterns in data that may indicate fraudulent activity. For example, a machine learning model might be trained to identify patterns in transaction data that are characteristic of fraudulent activity.\n",
    "- **Anomaly detection**: This approach involves identifying deviations from normal behavior that may indicate fraudulent activity. For example, if an individual's spending patterns are significantly different from those of their peers, this could be a sign of fraudulent activity.\n",
    "\n",
    "It's important to note that no single method is foolproof, and the most effective fraud detection systems often combine multiple approaches in order to achieve the best results."
   ]
  },
  {
   "attachments": {},
   "cell_type": "markdown",
   "metadata": {},
   "source": [
    "\n",
    "\n",
    "## 1.4 Case study: Credit card fraud detection\n",
    "\n",
    "One common application of AI in fraud detection is the detection of fraudulent credit card transactions. In this case study, we will explore a real-world example of using machine learning to detect fraudulent credit card transactions.\n",
    "\n",
    "The dataset used in this case study is the Credit Card Fraud Detection dataset from Kaggle (**[https://www.kaggle.com/mlg-ulb/creditcardfraud](https://www.kaggle.com/mlg-ulb/creditcardfraud)**). It contains transactions made by credit cards in September 2013 by European cardholders. The dataset is highly unbalanced, with only 0.172% of transactions being fraudulent.\n",
    "\n",
    "We will start by exploring the data and performing some preprocessing steps. Then, we will train a machine learning model to classify transactions as either fraudulent or non-fraudulent. Finally, we will evaluate the model's performance and discuss some potential improvements.\n",
    "\n",
    "### 1.4.1 Exploring the data\n",
    "\n",
    "First, let's import the necessary libraries and load the data:\n"
   ]
  },
  {
   "cell_type": "code",
   "execution_count": null,
   "metadata": {},
   "outputs": [],
   "source": [
    "import pandas as pd\n",
    "import numpy as np\n",
    "import matplotlib.pyplot as plt\n",
    "\n",
    "# Load the data\n",
    "df = pd.read_csv('creditcard.csv')"
   ]
  },
  {
   "attachments": {},
   "cell_type": "markdown",
   "metadata": {},
   "source": [
    "Next, let's take a look at the data to get a sense of the features and their distributions:"
   ]
  },
  {
   "cell_type": "code",
   "execution_count": null,
   "metadata": {},
   "outputs": [],
   "source": [
    "df.head()"
   ]
  },
  {
   "attachments": {},
   "cell_type": "markdown",
   "metadata": {},
   "source": [
    "This dataset contains 31 features, including the time and amount of the transaction, as well as various anonymized features. The target variable, **`Class`**, indicates whether the transaction was fraudulent (1) or non-fraudulent (0).\n",
    "\n",
    "Now, let's plot the distribution of the target variable to get a sense of the imbalance in the data:\n"
   ]
  },
  {
   "cell_type": "code",
   "execution_count": null,
   "metadata": {},
   "outputs": [],
   "source": [
    "# Count the number of fraudulent and non-fraudulent transactions\n",
    "fraud_count = df[df['Class'] == 1].shape[0]\n",
    "non_fraud_count = df[df['Class'] == 0].shape[0]\n",
    "\n",
    "# Plot the distribution\n",
    "plt.bar(['Fraudulent', 'Non-fraudulent'], [fraud_count, non_fraud_count])\n",
    "plt.show()"
   ]
  },
  {
   "attachments": {},
   "cell_type": "markdown",
   "metadata": {},
   "source": [
    "As we can see, the majority of the transactions are non-fraudulent, with only a small fraction being fraudulent. This imbalance will be important to consider when evaluating the performance of our model."
   ]
  },
  {
   "attachments": {},
   "cell_type": "markdown",
   "metadata": {},
   "source": [
    "### 1.4.2 Preprocessing\n",
    "\n",
    "Before training a model, we need to perform some preprocessing steps on the data. First, let's separate the features and target variable:\n"
   ]
  },
  {
   "cell_type": "code",
   "execution_count": null,
   "metadata": {},
   "outputs": [],
   "source": [
    "# Separate the features and target variable\n",
    "X = df.drop('Class', axis=1)\n",
    "y = df['Class']"
   ]
  },
  {
   "attachments": {},
   "cell_type": "markdown",
   "metadata": {},
   "source": [
    "Next, we will scale the features using the **`StandardScaler`** from scikit-learn:\n"
   ]
  },
  {
   "cell_type": "code",
   "execution_count": null,
   "metadata": {},
   "outputs": [],
   "source": [
    "from sklearn.preprocessing import StandardScaler\n",
    "\n",
    "scaler = StandardScaler()\n",
    "X_scaled = scaler.fit_transform(X)"
   ]
  },
  {
   "attachments": {},
   "cell_type": "markdown",
   "metadata": {},
   "source": [
    "Finally, we will split the data into training and testing sets.\n",
    "\n",
    "To split the data into training and testing sets, we can use the **`train_test_split`** function from the **`sklearn.model_selection`** module. First, we need to import the function. \n",
    "Then, we can split the data into training and testing sets with the following code:\n"
   ]
  },
  {
   "cell_type": "code",
   "execution_count": null,
   "metadata": {},
   "outputs": [],
   "source": [
    "from sklearn.model_selection import train_test_split\n",
    "X_train, X_test, y_train, y_test = train_test_split(X, y, test_size=0.2, random_state=42)"
   ]
  },
  {
   "attachments": {},
   "cell_type": "markdown",
   "metadata": {},
   "source": [
    "Here, **`X`** is the input data and **`y`** is the target variable. The **`test_size`** parameter specifies the proportion of the data that will be used for testing. In this case, we are using 20% of the data for testing. The **`random_state`** parameter is used to set the random seed, which ensures that the data is split in the same way each time the code is run.\n",
    "\n",
    "After splitting the data, we can use the training set to train the model and the testing set to evaluate its performance.\n",
    "\n",
    "Finally, we will split the data into training and testing sets:\n"
   ]
  },
  {
   "cell_type": "code",
   "execution_count": null,
   "metadata": {},
   "outputs": [],
   "source": [
    "X_train, X_test, y_train, y_test = train_test_split(X, y, test_size=0.3, random_state=1)"
   ]
  },
  {
   "attachments": {},
   "cell_type": "markdown",
   "metadata": {},
   "source": [
    "The **`train_test_split`** function from scikit-learn's **`model_selection`** module allows us to split our data into training and testing sets. The **`test_size`** parameter determines the proportion of the data that will be used for testing, and the **`random_state`** parameter ensures that the data is split in a reproducible manner.\n",
    "\n",
    "Next, we will train a logistic regression model on the training data:\n"
   ]
  },
  {
   "cell_type": "code",
   "execution_count": null,
   "metadata": {},
   "outputs": [],
   "source": [
    "log_reg = LogisticRegression()\n",
    "log_reg.fit(X_train, y_train)"
   ]
  },
  {
   "attachments": {},
   "cell_type": "markdown",
   "metadata": {},
   "source": [
    "The **`LogisticRegression`** class from scikit-learn's **`linear_model`** module implements logistic regression. The **`fit`** method trains the model on the training data.\n",
    "\n",
    "Once the model is trained, we can use it to make predictions on the testing data:\n"
   ]
  },
  {
   "cell_type": "code",
   "execution_count": null,
   "metadata": {},
   "outputs": [],
   "source": [
    "y_pred = log_reg.predict(X_test)"
   ]
  },
  {
   "attachments": {},
   "cell_type": "markdown",
   "metadata": {},
   "source": [
    "The **`predict`** method returns a list of predictions for the testing data.\n",
    "\n",
    "Finally, we can evaluate the model's performance by computing the confusion matrix and several metrics:\n"
   ]
  },
  {
   "cell_type": "code",
   "execution_count": null,
   "metadata": {},
   "outputs": [],
   "source": [
    "confusion_matrix = confusion_matrix(y_test, y_pred)\n",
    "print(\"Confusion matrix:\\n\", confusion_matrix)\n",
    "\n",
    "precision = precision_score(y_test, y_pred)\n",
    "print(\"Precision: {:.2f}\".format(precision))\n",
    "\n",
    "recall = recall_score(y_test, y_pred)\n",
    "print(\"Recall: {:.2f}\".format(recall))\n",
    "\n",
    "f1 = f1_score(y_test, y_pred)\n",
    "print(\"F1 score: {:.2f}\".format(f1))\n",
    "\n",
    "accuracy = accuracy_score(y_test, y_pred)\n",
    "print(\"Accuracy: {:.2f}\".format(accuracy))"
   ]
  },
  {
   "attachments": {},
   "cell_type": "markdown",
   "metadata": {},
   "source": [
    "The **`confusion_matrix`**, **`precision_score`**, **`recall_score`**, **`f1_score`**, and **`accuracy_score`** functions are all from scikit-learn's **`metrics`** module and allow us to compute various metrics for evaluating the model's performance. The confusion matrix allows us to see the number of true positive, true negative, false positive, and false negative predictions. Precision is the ratio of true positive predictions to all positive predictions. Recall is the ratio of true positive predictions to all actual positive samples. The F1 score is the harmonic mean of precision and recall. Accuracy is the ratio of correct predictions to all predictions."
   ]
  },
  {
   "cell_type": "code",
   "execution_count": null,
   "metadata": {},
   "outputs": [],
   "source": []
  }
 ],
 "metadata": {
  "kernelspec": {
   "display_name": "base",
   "language": "python",
   "name": "python3"
  },
  "language_info": {
   "codemirror_mode": {
    "name": "ipython",
    "version": 3
   },
   "file_extension": ".py",
   "mimetype": "text/x-python",
   "name": "python",
   "nbconvert_exporter": "python",
   "pygments_lexer": "ipython3",
   "version": "3.7.4"
  },
  "vscode": {
   "interpreter": {
    "hash": "bede37849ef1a016272327115736fc1a672222222570e1af63a91088e5ca31d7"
   }
  }
 },
 "nbformat": 4,
 "nbformat_minor": 2
}